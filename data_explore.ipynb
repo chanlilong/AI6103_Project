{
 "cells": [
  {
   "cell_type": "code",
   "execution_count": 20,
   "id": "d858dd37-1937-4082-8d4a-a65cfdd620e9",
   "metadata": {},
   "outputs": [],
   "source": [
    "import pandas as pd\n",
    "import seaborn as sns\n",
    "import numpy as np\n",
    "df = pd.read_csv(\"C://Users//Chan Li Long//Documents//Protein//pdb_data_seq.csv\")\n"
   ]
  },
  {
   "cell_type": "code",
   "execution_count": 21,
   "id": "286d5bfb-c357-4429-b855-70593fce9eee",
   "metadata": {},
   "outputs": [],
   "source": [
    "df_labels = pd.read_csv(\"C://Users//Chan Li Long//Documents//Protein//pdb_data_no_dups.csv\")\n",
    "id2class = {k:v for k,v in zip(df_labels[\"structureId\"],df_labels[\"classification\"])}"
   ]
  },
  {
   "cell_type": "code",
   "execution_count": 22,
   "id": "81fb22ac-4d5b-434b-8ec1-b7850cbc03a8",
   "metadata": {},
   "outputs": [
    {
     "data": {
      "text/html": [
       "<div>\n",
       "<style scoped>\n",
       "    .dataframe tbody tr th:only-of-type {\n",
       "        vertical-align: middle;\n",
       "    }\n",
       "\n",
       "    .dataframe tbody tr th {\n",
       "        vertical-align: top;\n",
       "    }\n",
       "\n",
       "    .dataframe thead th {\n",
       "        text-align: right;\n",
       "    }\n",
       "</style>\n",
       "<table border=\"1\" class=\"dataframe\">\n",
       "  <thead>\n",
       "    <tr style=\"text-align: right;\">\n",
       "      <th></th>\n",
       "      <th>structureId</th>\n",
       "      <th>chainId</th>\n",
       "      <th>sequence</th>\n",
       "      <th>residueCount</th>\n",
       "      <th>macromoleculeType</th>\n",
       "      <th>class</th>\n",
       "    </tr>\n",
       "  </thead>\n",
       "  <tbody>\n",
       "    <tr>\n",
       "      <th>2</th>\n",
       "      <td>101D</td>\n",
       "      <td>A</td>\n",
       "      <td>[[C, G, C, G, A, A, T, T, C, G, C, G, 1, 1, 1,...</td>\n",
       "      <td>24</td>\n",
       "      <td>DNA</td>\n",
       "      <td>DNA</td>\n",
       "    </tr>\n",
       "    <tr>\n",
       "      <th>3</th>\n",
       "      <td>101D</td>\n",
       "      <td>B</td>\n",
       "      <td>[[C, G, C, G, A, A, T, T, C, G, C, G, 1, 1, 1,...</td>\n",
       "      <td>24</td>\n",
       "      <td>DNA</td>\n",
       "      <td>DNA</td>\n",
       "    </tr>\n",
       "    <tr>\n",
       "      <th>5</th>\n",
       "      <td>102D</td>\n",
       "      <td>A</td>\n",
       "      <td>[[C, G, C, A, A, A, T, T, T, G, C, G, 1, 1, 1,...</td>\n",
       "      <td>24</td>\n",
       "      <td>DNA</td>\n",
       "      <td>DNA</td>\n",
       "    </tr>\n",
       "    <tr>\n",
       "      <th>6</th>\n",
       "      <td>102D</td>\n",
       "      <td>B</td>\n",
       "      <td>[[C, G, C, A, A, A, T, T, T, G, C, G, 1, 1, 1,...</td>\n",
       "      <td>24</td>\n",
       "      <td>DNA</td>\n",
       "      <td>DNA</td>\n",
       "    </tr>\n",
       "    <tr>\n",
       "      <th>9</th>\n",
       "      <td>103D</td>\n",
       "      <td>A</td>\n",
       "      <td>[[G, T, G, G, A, A, T, G, G, A, A, C, 1, 1, 1,...</td>\n",
       "      <td>24</td>\n",
       "      <td>DNA</td>\n",
       "      <td>DNA</td>\n",
       "    </tr>\n",
       "    <tr>\n",
       "      <th>...</th>\n",
       "      <td>...</td>\n",
       "      <td>...</td>\n",
       "      <td>...</td>\n",
       "      <td>...</td>\n",
       "      <td>...</td>\n",
       "      <td>...</td>\n",
       "    </tr>\n",
       "    <tr>\n",
       "      <th>467282</th>\n",
       "      <td>9MHT</td>\n",
       "      <td>C</td>\n",
       "      <td>[[C, C, A, T, G, C, G, C, T, G, A, C, 1, 1, 1,...</td>\n",
       "      <td>351</td>\n",
       "      <td>Protein#DNA</td>\n",
       "      <td>TRANSFERASE/DNA</td>\n",
       "    </tr>\n",
       "    <tr>\n",
       "      <th>467283</th>\n",
       "      <td>9MHT</td>\n",
       "      <td>D</td>\n",
       "      <td>[[G, T, C, A, G, N, G, C, A, T, G, G, 1, 1, 1,...</td>\n",
       "      <td>351</td>\n",
       "      <td>Protein#DNA</td>\n",
       "      <td>TRANSFERASE/DNA</td>\n",
       "    </tr>\n",
       "    <tr>\n",
       "      <th>467285</th>\n",
       "      <td>9NSE</td>\n",
       "      <td>A</td>\n",
       "      <td>[[S, R, A, P, A, P, A, T, P, H, A, P, D, H, S,...</td>\n",
       "      <td>888</td>\n",
       "      <td>Protein</td>\n",
       "      <td>OXIDOREDUCTASE</td>\n",
       "    </tr>\n",
       "    <tr>\n",
       "      <th>467286</th>\n",
       "      <td>9NSE</td>\n",
       "      <td>B</td>\n",
       "      <td>[[S, R, A, P, A, P, A, T, P, H, A, P, D, H, S,...</td>\n",
       "      <td>888</td>\n",
       "      <td>Protein</td>\n",
       "      <td>OXIDOREDUCTASE</td>\n",
       "    </tr>\n",
       "    <tr>\n",
       "      <th>467290</th>\n",
       "      <td>9PCY</td>\n",
       "      <td>A</td>\n",
       "      <td>[[L, E, V, L, L, G, S, G, D, G, S, L, V, F, V,...</td>\n",
       "      <td>99</td>\n",
       "      <td>Protein</td>\n",
       "      <td>ELECTRON TRANSPORT</td>\n",
       "    </tr>\n",
       "  </tbody>\n",
       "</table>\n",
       "<p>309438 rows × 6 columns</p>\n",
       "</div>"
      ],
      "text/plain": [
       "       structureId chainId                                           sequence  \\\n",
       "2             101D       A  [[C, G, C, G, A, A, T, T, C, G, C, G, 1, 1, 1,...   \n",
       "3             101D       B  [[C, G, C, G, A, A, T, T, C, G, C, G, 1, 1, 1,...   \n",
       "5             102D       A  [[C, G, C, A, A, A, T, T, T, G, C, G, 1, 1, 1,...   \n",
       "6             102D       B  [[C, G, C, A, A, A, T, T, T, G, C, G, 1, 1, 1,...   \n",
       "9             103D       A  [[G, T, G, G, A, A, T, G, G, A, A, C, 1, 1, 1,...   \n",
       "...            ...     ...                                                ...   \n",
       "467282        9MHT       C  [[C, C, A, T, G, C, G, C, T, G, A, C, 1, 1, 1,...   \n",
       "467283        9MHT       D  [[G, T, C, A, G, N, G, C, A, T, G, G, 1, 1, 1,...   \n",
       "467285        9NSE       A  [[S, R, A, P, A, P, A, T, P, H, A, P, D, H, S,...   \n",
       "467286        9NSE       B  [[S, R, A, P, A, P, A, T, P, H, A, P, D, H, S,...   \n",
       "467290        9PCY       A  [[L, E, V, L, L, G, S, G, D, G, S, L, V, F, V,...   \n",
       "\n",
       "        residueCount macromoleculeType               class  \n",
       "2                 24               DNA                 DNA  \n",
       "3                 24               DNA                 DNA  \n",
       "5                 24               DNA                 DNA  \n",
       "6                 24               DNA                 DNA  \n",
       "9                 24               DNA                 DNA  \n",
       "...              ...               ...                 ...  \n",
       "467282           351       Protein#DNA     TRANSFERASE/DNA  \n",
       "467283           351       Protein#DNA     TRANSFERASE/DNA  \n",
       "467285           888           Protein      OXIDOREDUCTASE  \n",
       "467286           888           Protein      OXIDOREDUCTASE  \n",
       "467290            99           Protein  ELECTRON TRANSPORT  \n",
       "\n",
       "[309438 rows x 6 columns]"
      ]
     },
     "execution_count": 22,
     "metadata": {},
     "output_type": "execute_result"
    }
   ],
   "source": [
    "df[\"class\"] = df[\"structureId\"].apply(lambda x : id2class[x])\n",
    "count_df = df[[\"class\",\"macromoleculeType\"]].groupby(\"class\").agg('count')\n",
    "count_df = count_df.sort_values(\"macromoleculeType\")\n",
    "top_classes = list(count_df.index[-35:])\n",
    "top_classes = [x for x in top_classes if x not in [\"UNKNOWN FUNCTION\",'STRUCTURAL GENOMICS, UNKNOWN FUNCTION']]\n",
    "\n",
    "df = df[df[\"sequence\"].apply(lambda x: isinstance(x,str))]\n",
    "df = df[df[\"sequence\"].apply(lambda x: (len(x)<=512) & (len(x)>=10))]\n",
    "df = df[df[\"class\"].apply(lambda x: x in top_classes)]\n",
    "max_len = df[\"sequence\"].apply(len).max()\n",
    "df[\"sequence\"] = df[\"sequence\"].apply(list)\n",
    "def pad(x,l=512):\n",
    "    p = np.ones((1,512),dtype=str)\n",
    "    p[:,0:len(x)] = x\n",
    "    return p\n",
    "df[\"sequence\"] = df[\"sequence\"].apply(lambda x: pad(x,max_len))\n",
    "df"
   ]
  },
  {
   "cell_type": "code",
   "execution_count": 23,
   "id": "8e69c482-be91-4cb5-a0f1-24f4a1e06c43",
   "metadata": {},
   "outputs": [],
   "source": [
    "all_seq = np.vstack(df[\"sequence\"].values)"
   ]
  },
  {
   "cell_type": "code",
   "execution_count": 32,
   "id": "70c1fd1a-2963-4c9e-b3db-161c5644f6e9",
   "metadata": {},
   "outputs": [],
   "source": [
    "unique_seq = np.unique(all_seq)\n",
    "unique_seq.sort()\n",
    "vocab_dict = {x:i for i,x in enumerate(unique_seq)}\n",
    "# vocab_dict"
   ]
  },
  {
   "cell_type": "code",
   "execution_count": 33,
   "id": "1cebb6b8-88a7-493c-af2f-8b6725702734",
   "metadata": {},
   "outputs": [],
   "source": [
    "classes = df[\"class\"].unique()\n",
    "classes.sort()\n",
    "class_dict = {x:i for i,x in enumerate(classes)}\n",
    "# class_dict"
   ]
  },
  {
   "cell_type": "code",
   "execution_count": 35,
   "id": "d2859c99-9d28-4a98-a4e1-dd84462f3688",
   "metadata": {},
   "outputs": [],
   "source": [
    "convert = np.vectorize(lambda x : vocab_dict[x])\n",
    "seq_int = convert(all_seq)"
   ]
  },
  {
   "cell_type": "code",
   "execution_count": 38,
   "id": "6824cb7e-a3ea-45d4-b95b-a864c53e835e",
   "metadata": {},
   "outputs": [
    {
     "data": {
      "text/plain": [
       "array([ 3,  3,  3, ..., 14, 14,  5], dtype=int64)"
      ]
     },
     "execution_count": 38,
     "metadata": {},
     "output_type": "execute_result"
    }
   ],
   "source": [
    "class_int = df[\"class\"].apply(lambda x: class_dict[x]).values\n",
    "class_int"
   ]
  },
  {
   "cell_type": "code",
   "execution_count": 40,
   "id": "305aab39-71e8-4323-9728-5cd3aca28a64",
   "metadata": {},
   "outputs": [],
   "source": [
    "data_dict = {}\n",
    "data_dict[\"seq\"] = seq_int\n",
    "data_dict[\"class\"] = class_int\n",
    "data_dict[\"vocab\"] = vocab_dict\n",
    "data_dict[\"class_dict\"] = class_dict"
   ]
  },
  {
   "cell_type": "code",
   "execution_count": 42,
   "id": "4b027e08-bca6-4a8f-8ca9-353e536a4f47",
   "metadata": {},
   "outputs": [],
   "source": [
    "np.save(\"protein_processed.npy\",data_dict)"
   ]
  },
  {
   "cell_type": "code",
   "execution_count": null,
   "id": "da1031a7-715a-414d-9d47-20c2879f3a94",
   "metadata": {},
   "outputs": [],
   "source": []
  }
 ],
 "metadata": {
  "kernelspec": {
   "display_name": "Python 3 (ipykernel)",
   "language": "python",
   "name": "python3"
  },
  "language_info": {
   "codemirror_mode": {
    "name": "ipython",
    "version": 3
   },
   "file_extension": ".py",
   "mimetype": "text/x-python",
   "name": "python",
   "nbconvert_exporter": "python",
   "pygments_lexer": "ipython3",
   "version": "3.10.9"
  }
 },
 "nbformat": 4,
 "nbformat_minor": 5
}
